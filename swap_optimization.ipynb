{
 "cells": [
  {
   "cell_type": "markdown",
   "metadata": {
    "collapsed": false,
    "pycharm": {
     "name": "#%% md\n"
    }
   },
   "source": [
    "## Finding the Best Way to Swap Coins\n"
   ]
  },
  {
   "cell_type": "code",
   "execution_count": 1,
   "metadata": {
    "collapsed": false,
    "pycharm": {
     "name": "#%%\n"
    }
   },
   "outputs": [],
   "source": [
    "import pandas as pd\n",
    "from IPython import display\n",
    "from IPython.core.display import HTML\n",
    "\n",
    "from src.data_extractors import get_pools, get_prices\n",
    "from config import BOSTROM_NODE_URL, POOL_FEE\n",
    "\n",
    "\n",
    "source_coin = \"boot\"\n",
    "target_coin = \"tocyb\"\n",
    "source_amount = 89_200_000_000\n",
    "max_slippage = 0.15\n",
    "min_path_decrease_premium = 0.005\n"
   ]
  },
  {
   "cell_type": "code",
   "execution_count": 2,
   "metadata": {},
   "outputs": [],
   "source": [
    "import os \n",
    "path = \"/Users/user/Documents/local_files/cyber_files/\"\n",
    "os.chdir(path)"
   ]
  },
  {
   "cell_type": "markdown",
   "metadata": {
    "collapsed": false
   },
   "source": [
    "#### Get Bostrom and Osmosis Pools Data\n"
   ]
  },
  {
   "cell_type": "code",
   "execution_count": 3,
   "metadata": {
    "collapsed": false,
    "pycharm": {
     "name": "#%%\n"
    }
   },
   "outputs": [
    {
     "data": {
      "text/html": [
       "<div>\n",
       "<style scoped>\n",
       "    .dataframe tbody tr th:only-of-type {\n",
       "        vertical-align: middle;\n",
       "    }\n",
       "\n",
       "    .dataframe tbody tr th {\n",
       "        vertical-align: top;\n",
       "    }\n",
       "\n",
       "    .dataframe thead th {\n",
       "        text-align: right;\n",
       "    }\n",
       "</style>\n",
       "<table border=\"1\" class=\"dataframe\">\n",
       "  <thead>\n",
       "    <tr style=\"text-align: right;\">\n",
       "      <th>network</th>\n",
       "      <th>id</th>\n",
       "      <th>type_id</th>\n",
       "      <th>balances</th>\n",
       "      <th>swap_fee</th>\n",
       "      <th>reserve_coin_denoms</th>\n",
       "    </tr>\n",
       "  </thead>\n",
       "  <tbody>\n",
       "    <tr>\n",
       "      <td>bostrom</td>\n",
       "      <td>1</td>\n",
       "      <td>1</td>\n",
       "      <td>[{'denom': 'boot', 'amount': '1149315316171'}, ...</td>\n",
       "      <td>0.003</td>\n",
       "      <td>[boot, hydrogen]</td>\n",
       "    </tr>\n",
       "    <tr>\n",
       "      <td>bostrom</td>\n",
       "      <td>2</td>\n",
       "      <td>1</td>\n",
       "      <td>[{'denom': 'boot', 'amount': '13887244460'}, {'...</td>\n",
       "      <td>0.003</td>\n",
       "      <td>[boot, milliampere]</td>\n",
       "    </tr>\n",
       "    <tr>\n",
       "      <td>bostrom</td>\n",
       "      <td>3</td>\n",
       "      <td>1</td>\n",
       "      <td>[{'denom': 'boot', 'amount': '1139152020166'}, ...</td>\n",
       "      <td>0.003</td>\n",
       "      <td>[boot, tocyb]</td>\n",
       "    </tr>\n",
       "    <tr>\n",
       "      <td>bostrom</td>\n",
       "      <td>4</td>\n",
       "      <td>1</td>\n",
       "      <td>[{'denom': 'hydrogen', 'amount': '2013603314650...</td>\n",
       "      <td>0.003</td>\n",
       "      <td>[hydrogen, tocyb]</td>\n",
       "    </tr>\n",
       "    <tr>\n",
       "      <td>bostrom</td>\n",
       "      <td>5</td>\n",
       "      <td>1</td>\n",
       "      <td>[{'denom': 'hydrogen', 'amount': '264381074900'...</td>\n",
       "      <td>0.003</td>\n",
       "      <td>[hydrogen, milliampere]</td>\n",
       "    </tr>\n",
       "    <tr>\n",
       "      <td>bostrom</td>\n",
       "      <td>6</td>\n",
       "      <td>1</td>\n",
       "      <td>[{'denom': 'hydrogen', 'amount': '395841379406'...</td>\n",
       "      <td>0.003</td>\n",
       "      <td>[hydrogen, millivolt]</td>\n",
       "    </tr>\n",
       "    <tr>\n",
       "      <td>bostrom</td>\n",
       "      <td>7</td>\n",
       "      <td>1</td>\n",
       "      <td>[{'denom': 'hydrogen', 'amount': '149542496640'...</td>\n",
       "      <td>0.003</td>\n",
       "      <td>[hydrogen, uosmo in bostrom]</td>\n",
       "    </tr>\n",
       "    <tr>\n",
       "      <td>bostrom</td>\n",
       "      <td>8</td>\n",
       "      <td>1</td>\n",
       "      <td>[{'denom': 'hydrogen', 'amount': '20967017356'}...</td>\n",
       "      <td>0.003</td>\n",
       "      <td>[hydrogen, uatom in bostrom]</td>\n",
       "    </tr>\n",
       "    <tr>\n",
       "      <td>bostrom</td>\n",
       "      <td>9</td>\n",
       "      <td>1</td>\n",
       "      <td>[{'denom': 'uosmo in bostrom', 'amount': '15754...</td>\n",
       "      <td>0.003</td>\n",
       "      <td>[uosmo in bostrom, uatom in bostrom]</td>\n",
       "    </tr>\n",
       "    <tr>\n",
       "      <td>bostrom</td>\n",
       "      <td>10</td>\n",
       "      <td>1</td>\n",
       "      <td>[{'denom': 'milliampere', 'amount': '25235366'}...</td>\n",
       "      <td>0.003</td>\n",
       "      <td>[milliampere, millivolt]</td>\n",
       "    </tr>\n",
       "    <tr>\n",
       "      <td>bostrom</td>\n",
       "      <td>11</td>\n",
       "      <td>1</td>\n",
       "      <td>[{'denom': 'boot', 'amount': '61569576883'}, {'...</td>\n",
       "      <td>0.003</td>\n",
       "      <td>[boot, millivolt]</td>\n",
       "    </tr>\n",
       "  </tbody>\n",
       "</table>\n",
       "</div>"
      ],
      "text/plain": [
       "<IPython.core.display.HTML object>"
      ]
     },
     "metadata": {},
     "output_type": "display_data"
    }
   ],
   "source": [
    "pools_df = get_pools(network=\"bostrom\", display_data=True)\n"
   ]
  },
  {
   "cell_type": "code",
   "execution_count": 4,
   "metadata": {},
   "outputs": [],
   "source": [
    "# Импорт csv - перенес в cyberarbitrage потому что там есть осмо\n",
    "\n",
    "# import datetime\n",
    "\n",
    "# _list = pools_df[\"balances\"].to_list()\n",
    "# _t = []\n",
    "# for i in _list:\n",
    "#     _t.append([i[0][\"denom\"], i[0][\"amount\"], i[1][\"denom\"], i[1][\"amount\"]])\n",
    "\n",
    "# _pools = pd.DataFrame.from_records(\n",
    "#     _t,\n",
    "#     columns=[\"Coin 1\", \"Coin 1 pool amount\", \"Coin 2\", \"Coin 2 pool amount\"],\n",
    "# )\n",
    "\n",
    "# _pools['update_time'] = datetime.datetime.now()\n",
    "\n",
    "# _pools.to_csv(\"/Users/user/Documents/!temp/Excel_folder/cyber_files/pools_log.csv\" , mode='a', index=False, header=False)"
   ]
  },
  {
   "cell_type": "code",
   "execution_count": null,
   "metadata": {},
   "outputs": [],
   "source": []
  },
  {
   "cell_type": "markdown",
   "metadata": {
    "collapsed": false
   },
   "source": [
    "#### Calculate Prices\n"
   ]
  },
  {
   "cell_type": "code",
   "execution_count": null,
   "metadata": {
    "collapsed": false,
    "pycharm": {
     "name": "#%%\n"
    }
   },
   "outputs": [],
   "source": [
    "price_df = get_prices(pools_df=pools_df, display_data=True)\n"
   ]
  },
  {
   "cell_type": "markdown",
   "metadata": {
    "collapsed": true,
    "pycharm": {
     "name": "#%% md\n"
    }
   },
   "source": [
    "#### Search the best way to swap coins\n"
   ]
  },
  {
   "cell_type": "code",
   "execution_count": null,
   "metadata": {
    "collapsed": false,
    "pycharm": {
     "name": "#%%\n"
    }
   },
   "outputs": [],
   "source": [
    "# main: coin_source -> coin_target\n",
    "ways = []\n",
    "pool_main_df = pools_df[\n",
    "    (pools_df.reserve_coin_denoms.isin([[source_coin, target_coin]]))\n",
    "    | (pools_df.reserve_coin_denoms.isin([[target_coin, source_coin]]))\n",
    "]\n",
    "if len(pool_main_df) > 0:\n",
    "    ways = [[[source_coin, target_coin]]]\n",
    "\n",
    "# alternative: coin_source -> coin3 -> coin_target\n",
    "coin3_list = list(\n",
    "    price_df[\n",
    "        (~price_df[source_coin].isna())\n",
    "        & (~price_df[target_coin].isna())\n",
    "        & (~price_df.index.isin([source_coin, target_coin]))\n",
    "    ].index\n",
    ")\n",
    "for coin3 in coin3_list:\n",
    "    ways.append([[source_coin, coin3], [coin3, target_coin]])\n",
    "\n",
    "\n",
    "def way_to_str(way: list):\n",
    "    return \", \".join(f\"{way_item[0]} -> {way_item[1]}\" for way_item in way)\n",
    "\n",
    "\n",
    "print(f\"ways count {len(ways)}\")\n",
    "print(\"\".join(f\"{str(i + 1)}. {way_to_str(way)}\\n\" for i, way in enumerate(ways)))\n"
   ]
  },
  {
   "cell_type": "code",
   "execution_count": null,
   "metadata": {
    "collapsed": false,
    "pycharm": {
     "name": "#%%\n"
    }
   },
   "outputs": [],
   "source": [
    "def get_balance_by_coin(pool_balances: list, coin: str) -> int:\n",
    "    try:\n",
    "        return [\n",
    "            float(item[\"amount\"]) for item in pool_balances if item[\"denom\"] == coin\n",
    "        ][0]\n",
    "    except Exception as e:\n",
    "        print(pool_balances, coin, e)\n",
    "\n",
    "\n",
    "def generate_swap_query(\n",
    "    coin_from_amount: float,\n",
    "    coin_from: str,\n",
    "    coin_to: str,\n",
    "    coins_pool_df: pd.DataFrame,\n",
    "    price_df: pd.DataFrame = price_df,\n",
    "    max_slippage: float = max_slippage,\n",
    "    wallet: str = \"$WALLET\",\n",
    "    chain_id: str = \"bostrom\",\n",
    "    node=BOSTROM_NODE_URL,\n",
    ") -> str:\n",
    "\n",
    "    _pool_id = coins_pool_df.loc[:, \"id\"].to_list()[0]\n",
    "    _pool_type = coins_pool_df.loc[:, \"type_id\"].to_list()[0]\n",
    "    _price = price_df.loc[coin_from, coin_to] * (1 + max_slippage)\n",
    "    return (\n",
    "        f\"cyber tx liquidity swap {_pool_id} {_pool_type} {int(coin_from_amount)}{coin_from} {coin_to} {_price:.6f} 0.003 --from {wallet} \"\n",
    "        f\"--chain-id {chain_id} --gas 200000 --gas-prices 0.01boot --yes --node {node} --broadcast-mode block\"\n",
    "    )\n",
    "\n",
    "\n",
    "def calculate_swap(\n",
    "    way: list, coin1_amount: float, pools_df: pd.DataFrame = pools_df\n",
    ") -> [float, list]:\n",
    "    _coin_from_amount = coin1_amount\n",
    "    coin2_way_queries = []\n",
    "    for way_item in way:\n",
    "        _coin_from = way_item[0]\n",
    "        _coin_to = way_item[1]\n",
    "        _coins_pool_df = pools_df[\n",
    "            (pools_df.reserve_coin_denoms.isin([[_coin_from, _coin_to]]))\n",
    "            | (pools_df.reserve_coin_denoms.isin([[_coin_to, _coin_from]]))\n",
    "        ]\n",
    "        _coin_from_pool_amount = get_balance_by_coin(\n",
    "            _coins_pool_df.balances.values[0], _coin_from\n",
    "        )\n",
    "        _coin_to_pool_amount = get_balance_by_coin(\n",
    "            _coins_pool_df.balances.values[0], _coin_to\n",
    "        )\n",
    "        _coin_to_amount = (\n",
    "            _coin_from_amount\n",
    "            * _coin_to_pool_amount\n",
    "            / (_coin_from_pool_amount + 2 * _coin_from_amount)\n",
    "            * (1 - POOL_FEE)\n",
    "        )\n",
    "        coin2_way_queries.append(\n",
    "            generate_swap_query(\n",
    "                coin_from_amount=_coin_from_amount,\n",
    "                coin_from=_coin_from,\n",
    "                coin_to=_coin_to,\n",
    "                coins_pool_df=_coins_pool_df,\n",
    "            )\n",
    "        )\n",
    "        _coin_from_amount = _coin_to_amount\n",
    "    coin2_way_amount = _coin_from_amount\n",
    "    return coin2_way_amount, coin2_way_queries\n",
    "\n",
    "\n",
    "def calculate_all_swap(\n",
    "    amount_ways_list: list, print_message: bool = False\n",
    ") -> [float, list]:\n",
    "    swap_amount = 0\n",
    "    swap_queries = []\n",
    "    for _way, _amount in amount_ways_list:\n",
    "        _swap_amount_way, _swap_queries_way = calculate_swap(_way, coin1_amount=_amount)\n",
    "        swap_amount += _swap_amount_way\n",
    "        swap_queries.append(_swap_queries_way)\n",
    "        if print_message:\n",
    "            print(f\"{_way}\\n{_swap_amount_way}\\n\")\n",
    "    return swap_amount, swap_queries\n",
    "\n",
    "\n",
    "def get_best_swap(\n",
    "    ways: list,\n",
    "    amount=source_amount,\n",
    "    number_points: int = 10,\n",
    "    min_path_decrease_premium: float = min_path_decrease_premium,\n",
    "    print_message: bool = False,\n",
    ") -> [pd.DataFrame, float]:\n",
    "    if len(ways) == 0:\n",
    "        return pd.DataFrame(columns=[\"way\", \"amount\", \"swap_queries\"]), 0.0\n",
    "    elif len(ways) == 1:\n",
    "        _amount_list = [amount]\n",
    "    elif len(ways) == 2:\n",
    "        _amount_list = [\n",
    "            [\n",
    "                coef_1 / number_points * amount,\n",
    "                (number_points - coef_1) / number_points * amount,\n",
    "            ]\n",
    "            for coef_1 in range(number_points + 1)\n",
    "        ]\n",
    "    elif len(ways) == 3:\n",
    "        _amount_list = [\n",
    "            [\n",
    "                coef_1 / number_points * amount,\n",
    "                coef_2 / number_points * amount,\n",
    "                (number_points - coef_1 - coef_2) / number_points * amount,\n",
    "            ]\n",
    "            for coef_1 in range(number_points + 1)\n",
    "            for coef_2 in range(number_points - coef_1 + 1)\n",
    "        ]\n",
    "    else:\n",
    "        _amount_list = [\n",
    "            [\n",
    "                coef_1 / number_points * amount,\n",
    "                coef_2 / number_points * amount,\n",
    "                coef_3 / number_points * amount,\n",
    "                (number_points - coef_1 - coef_2 - coef_3) / number_points * amount,\n",
    "            ]\n",
    "            for coef_1 in range(number_points + 1)\n",
    "            for coef_2 in range(number_points - coef_1 + 1)\n",
    "            for coef_3 in range(number_points - coef_1 - coef_2 + 1)\n",
    "        ]\n",
    "\n",
    "    _swap_amount_list = []\n",
    "    for _amount_list_item in _amount_list:\n",
    "        _amount_ways_list = [\n",
    "            [_way, _amount] for _way, _amount in zip(ways, _amount_list_item)\n",
    "        ]\n",
    "        _swap_result, _swap_queries = calculate_all_swap(_amount_ways_list)\n",
    "        _swap_amount_list.append([_amount_list_item, _swap_result, _swap_queries])\n",
    "\n",
    "    _swap_amount_df = pd.DataFrame(\n",
    "        _swap_amount_list, columns=[\"amount_by_way_item\", \"swap_result\", \"swap_queries\"]\n",
    "    ).sort_values(\"swap_result\", ascending=False)\n",
    "    _swap_amount_df[\"effective_swap_result\"] = _swap_amount_df.apply(\n",
    "        lambda x: x[\"swap_result\"]\n",
    "        * (\n",
    "            1\n",
    "            - min_path_decrease_premium\n",
    "            * len([item for item in x[\"amount_by_way_item\"] if item != 0])\n",
    "        ),\n",
    "        axis=1,\n",
    "    )\n",
    "    if print_message:\n",
    "        display(\n",
    "            HTML(\n",
    "                (\n",
    "                    _swap_amount_df.to_html(\n",
    "                        index=False, notebook=True, show_dimensions=False\n",
    "                    )\n",
    "                )\n",
    "            )\n",
    "        )\n",
    "\n",
    "    _swap_max_amount_list = list(\n",
    "        _swap_amount_df.loc[_swap_amount_df[\"effective_swap_result\"].idxmax()][\n",
    "            [\"amount_by_way_item\", \"swap_queries\"]\n",
    "        ]\n",
    "    )\n",
    "    return (\n",
    "        pd.DataFrame(\n",
    "            zip(ways, _swap_max_amount_list[0], _swap_max_amount_list[1]),\n",
    "            columns=[\"way\", \"amount\", \"swap_queries\"],\n",
    "        ),\n",
    "        _swap_amount_df[\"swap_result\"].max(),\n",
    "    )\n"
   ]
  },
  {
   "cell_type": "code",
   "execution_count": null,
   "metadata": {
    "collapsed": false,
    "pycharm": {
     "name": "#%%\n"
    }
   },
   "outputs": [],
   "source": [
    "best_swap_df, max_result = get_best_swap(ways=ways, number_points=10)\n",
    "display(HTML(best_swap_df.to_html(index=False, notebook=True, show_dimensions=False)))\n",
    "print(\n",
    "    f\"Source amount {source_amount:>,} {source_coin}\\nMax target amount {int(max_result):>,} {target_coin}\\n\"\n",
    ")\n",
    "\n",
    "for index, row in best_swap_df.iterrows():\n",
    "    if row.amount > 0:\n",
    "        print(f\"{way_to_str(row.way)}\")\n",
    "        print(f\"Amount {int(row.amount):>,} {source_coin}\")\n",
    "        print(\"\\n\".join(row.swap_queries), \"\\n\")\n"
   ]
  },
  {
   "cell_type": "code",
   "execution_count": null,
   "metadata": {
    "collapsed": false,
    "pycharm": {
     "name": "#%%\n"
    }
   },
   "outputs": [],
   "source": []
  }
 ],
 "metadata": {
  "kernelspec": {
   "display_name": "Python 3.9.13 ('cyber')",
   "language": "python",
   "name": "python3"
  },
  "language_info": {
   "codemirror_mode": {
    "name": "ipython",
    "version": 3
   },
   "file_extension": ".py",
   "mimetype": "text/x-python",
   "name": "python",
   "nbconvert_exporter": "python",
   "pygments_lexer": "ipython3",
   "version": "3.9.13"
  },
  "vscode": {
   "interpreter": {
    "hash": "6a2e55f4a39c0f335f57965825687bdfac515b1a5fa93a558f4b981305a5a56e"
   }
  }
 },
 "nbformat": 4,
 "nbformat_minor": 0
}
